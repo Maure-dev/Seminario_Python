{
 "cells": [
  {
   "cell_type": "markdown",
   "id": "breathing-productivity",
   "metadata": {
    "slideshow": {
     "slide_type": "slide"
    }
   },
   "source": [
    "## Seminario de Lenguajes - Python\n",
    "### Nombre: Mauro Alejandro Gerardi\n",
    "### Número de legajo: 18690/3"
   ]
  },
  {
   "cell_type": "markdown",
   "id": "extended-addiction",
   "metadata": {
    "slideshow": {
     "slide_type": "slide"
    }
   },
   "source": [
    "## Explicación ejercicio 10"
   ]
  },
  {
   "cell_type": "markdown",
   "id": "processed-canada",
   "metadata": {
    "slideshow": {
     "slide_type": "subslide"
    }
   },
   "source": [
    "Dada una lista de alumnos y notas que corresponden a 2 evaluciones. Utilizo el método **replace(oldvalue, newvalue)** para reemplazar las comillas simples y las comas por vacío, para no contar con esos caracteres al momento de generar la estructura. Utilizo el método **split()** para dividir la cadena en una lista como se ve a continuación: "
   ]
  },
  {
   "cell_type": "code",
   "execution_count": 10,
   "id": "e0528bf0",
   "metadata": {
    "slideshow": {
     "slide_type": "fragment"
    }
   },
   "outputs": [],
   "source": [
    "nombres=\"\"\"\n",
    " 'Agustin',\n",
    " 'Alan',\n",
    " 'Andrés',\n",
    " 'Ariadna',\n",
    " 'Bautista',\n",
    " 'CAROLINA',\n",
    " 'CESAR',\n",
    " 'David',\n",
    " 'Diego',\n",
    " 'Dolores',\n",
    " 'DYLAN',\n",
    " 'ELIANA',\n",
    " 'Emanuel',\n",
    " 'Fabián',\n",
    " 'Facundo',\n",
    " 'Facundo',\n",
    " 'FEDERICO',\n",
    " 'FEDERICO',\n",
    " 'GONZALO',\n",
    " 'Gregorio',\n",
    " 'Ignacio',\n",
    " 'Jonathan',\n",
    " 'Jonathan',\n",
    " 'Jorge',\n",
    " 'JOSE',\n",
    " 'JUAN',\n",
    " 'Juan',\n",
    " 'Juan',\n",
    " 'Julian',\n",
    " 'Julieta',\n",
    " 'LAUTARO',\n",
    " 'Leonel',\n",
    " 'LUIS',\n",
    " 'Luis',\n",
    " 'Marcos',\n",
    " 'María',\n",
    " 'MATEO',\n",
    " 'Matias',\n",
    " 'Nicolás',\n",
    " 'NICOLÁS',\n",
    " 'Noelia',\n",
    " 'Pablo',\n",
    " 'Priscila',\n",
    " 'TOMAS',\n",
    " 'Tomás',\n",
    " 'Ulises',\n",
    " 'Yanina'\n",
    " \"\"\"\n",
    "eval1=\"\"\"\n",
    " 81,\n",
    " 60,\n",
    " 72,\n",
    " 24,\n",
    " 15,\n",
    " 91,\n",
    " 12,\n",
    " 70,\n",
    " 29,\n",
    " 42,\n",
    " 16,\n",
    " 3,\n",
    " 35,\n",
    " 67,\n",
    " 10,\n",
    " 57,\n",
    " 11,\n",
    " 69,\n",
    " 12,\n",
    " 77,\n",
    " 13,\n",
    " 86,\n",
    " 48,\n",
    " 65,\n",
    " 51,\n",
    " 41,\n",
    " 87,\n",
    " 43,\n",
    " 10,\n",
    " 87,\n",
    " 91,\n",
    " 15,\n",
    " 44,\n",
    " 85,\n",
    " 73,\n",
    " 37,\n",
    " 42,\n",
    " 95,\n",
    " 18,\n",
    " 7,\n",
    " 74,\n",
    " 60,\n",
    " 9,\n",
    " 65,\n",
    " 93,\n",
    " 63,\n",
    " 74\n",
    " \"\"\"\n",
    "eval2=\"\"\"\n",
    " 30,\n",
    " 95,\n",
    " 28,\n",
    " 84,\n",
    " 84,\n",
    " 43,\n",
    " 66,\n",
    " 51,\n",
    " 4,\n",
    " 11,\n",
    " 58,\n",
    " 10,\n",
    " 13,\n",
    " 34,\n",
    " 96,\n",
    " 71,\n",
    " 86,\n",
    " 37,\n",
    " 64,\n",
    " 13,\n",
    " 8,\n",
    " 87,\n",
    " 14,\n",
    " 14,\n",
    " 49,\n",
    " 27,\n",
    " 55,\n",
    " 69,\n",
    " 77,\n",
    " 59,\n",
    " 57,\n",
    " 40,\n",
    " 96,\n",
    " 24,\n",
    " 30,\n",
    " 73,\n",
    " 95,\n",
    " 19,\n",
    " 47,\n",
    " 15,\n",
    " 31,\n",
    " 39,\n",
    " 15,\n",
    " 74,\n",
    " 33,\n",
    " 57,\n",
    " 10\n",
    " \"\"\"\n",
    "\n",
    "nombres= nombres.replace(\",\",\"\").replace(\"'\",\"\")\n",
    "nombres= nombres.split()\n",
    "\n",
    "eval1= eval1.split(\",\")\n",
    "\n",
    "eval2= eval2.split(\",\")"
   ]
  },
  {
   "cell_type": "markdown",
   "id": "facial-somerset",
   "metadata": {
    "slideshow": {
     "slide_type": "subslide"
    }
   },
   "source": [
    "Procedo con la generación del diccionario para las notas de los estudiantes"
   ]
  },
  {
   "cell_type": "code",
   "execution_count": 11,
   "id": "superb-crown",
   "metadata": {
    "slideshow": {
     "slide_type": "subslide"
    }
   },
   "outputs": [],
   "source": [
    "notas= {}"
   ]
  },
  {
   "cell_type": "markdown",
   "id": "convertible-registrar",
   "metadata": {
    "slideshow": {
     "slide_type": "subslide"
    }
   },
   "source": [
    "Luego genero la carga del diccionario **notas** con ambas notas sumadas para cada estudiante"
   ]
  },
  {
   "cell_type": "code",
   "execution_count": 12,
   "id": "substantial-penalty",
   "metadata": {
    "slideshow": {
     "slide_type": "fragment"
    }
   },
   "outputs": [],
   "source": [
    "for indice in range(len(nombres)):\n",
    "    notas[nombres[indice]] = int(eval1[indice]) + int(eval2[indice])"
   ]
  },
  {
   "cell_type": "markdown",
   "id": "stunning-coverage",
   "metadata": {
    "slideshow": {
     "slide_type": "subslide"
    }
   },
   "source": [
    "Posteriormente, se genera una variable **total** para almacenar la suma de las notas de todos los estudiantes recorriendo el diccionario **notas** para luego almacenar en una variable **promedio** el promedio de las notas totales utilizando la función **len()** e informa a los alumnos que obtuvieron menos nota que el promedio."
   ]
  },
  {
   "cell_type": "code",
   "execution_count": 13,
   "id": "00bd70ae",
   "metadata": {
    "slideshow": {
     "slide_type": "fragment"
    }
   },
   "outputs": [
    {
     "name": "stdout",
     "output_type": "stream",
     "text": [
      "Los alumnos que obtuvieron nota menor que el promedio: 93.09302325581395 son:\n",
      "CESAR 78\n",
      "Diego 33\n",
      "Dolores 53\n",
      "DYLAN 74\n",
      "ELIANA 13\n",
      "Emanuel 48\n",
      "GONZALO 76\n",
      "Gregorio 90\n",
      "Ignacio 21\n",
      "Jonathan 62\n",
      "Jorge 79\n",
      "JUAN 68\n",
      "Julian 87\n",
      "Leonel 55\n",
      "Nicolás 65\n",
      "NICOLÁS 22\n",
      "Priscila 24\n",
      "Yanina 84\n"
     ]
    }
   ],
   "source": [
    "total = 0\n",
    "for alumno in notas:\n",
    "    total += notas[alumno]\n",
    "promedio= total / len(notas)\n",
    "\n",
    "\n",
    "print (f\"Los alumnos que obtuvieron nota menor que el promedio: {promedio} son:\")\n",
    "for alumno in notas:\n",
    "    if promedio > notas[alumno]:\n",
    "        print(alumno,notas[alumno])"
   ]
  },
  {
   "cell_type": "markdown",
   "id": "1a69235d",
   "metadata": {
    "slideshow": {
     "slide_type": "slide"
    }
   },
   "source": [
    "# Fin de la presentación!"
   ]
  }
 ],
 "metadata": {
  "celltoolbar": "Slideshow",
  "kernelspec": {
   "display_name": "Python 3 (ipykernel)",
   "language": "python",
   "name": "python3"
  },
  "language_info": {
   "codemirror_mode": {
    "name": "ipython",
    "version": 3
   },
   "file_extension": ".py",
   "mimetype": "text/x-python",
   "name": "python",
   "nbconvert_exporter": "python",
   "pygments_lexer": "ipython3",
   "version": "3.10.3"
  }
 },
 "nbformat": 4,
 "nbformat_minor": 5
}
